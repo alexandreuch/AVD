{
 "cells": [
  {
   "cell_type": "code",
   "execution_count": 283,
   "id": "819f3397-2d0e-40de-9214-91983b4d9791",
   "metadata": {},
   "outputs": [],
   "source": [
    "'''\n",
    "Atividade 3\n",
    "\n",
    "(x) Executar uma simulação de horizonte infinito para estimar o tempo médio de espera em uma fila M/M/1.\n",
    "\n",
    "(X) Eliminar o transiente usando a heurística MSER -5Y.\n",
    "\n",
    "Estimar o tempo médio de espera na fila e o respectivo intervalo de confiança de 95%.\n",
    "\n",
    "A regra de parada é a precisão relativa de 5%.\n",
    "\n",
    "Cenário I: λ =7 clientes por segundo; μ =10 clientes por segundo.\n",
    "\n",
    "Cenário II: λ =8 clientes por segundo; μ =10 clientes por segundo.\n",
    "\n",
    "Cenário III: λ =9 clientes por segundo; μ =10 clientes por segundo.\n",
    "\n",
    "Cenário IV: λ =9,5 clientes por segundo; μ =10 clientes por segundo.\n",
    "\n",
    "Plotar um gráfico comparativo dos quatro cenários.\n",
    "\n",
    "Plotar uma linha horizontal para o valor teórico esperado em cada cenário.\n",
    "#https://repository.lib.ncsu.edu/bitstream/handle/1840.16/6923/etd.pdf?sequence=2&isAllowed=y\n",
    "'''\n",
    "\n",
    "import numpy as np\n",
    "import random\n",
    "import timeit\n",
    "import math\n",
    "from scipy import stats"
   ]
  },
  {
   "cell_type": "code",
   "execution_count": 284,
   "id": "44ddc24e-29eb-4815-bf37-4a0ab642a4cc",
   "metadata": {},
   "outputs": [],
   "source": [
    "def G5(n):\n",
    "    random.seed(0)\n",
    "\n",
    "    vet_rn = []\n",
    "    for i in range(0,n,1):\n",
    "        vet_rn.append(random.random())\n",
    "    \n",
    "    return(vet_rn)"
   ]
  },
  {
   "cell_type": "code",
   "execution_count": 285,
   "id": "427bd486-6442-4e16-afff-9fbd2a4e6592",
   "metadata": {},
   "outputs": [],
   "source": [
    "def random_list(vet,B):\n",
    "    Ts = np.zeros(len(vet))\n",
    "    for i in range(0,len(vet)):\n",
    "        Ts[i] = -B*np.log(1-vet[i])\n",
    "    return list(Ts)"
   ]
  },
  {
   "cell_type": "code",
   "execution_count": 286,
   "id": "d2c92803-ac89-4fee-8bf1-7db49207a28e",
   "metadata": {},
   "outputs": [],
   "source": [
    "def sum_intervals(vet):\n",
    "    for i in range(1, len(vet)):\n",
    "        vet[i] += vet[i-1]\n",
    "    return vet"
   ]
  },
  {
   "cell_type": "code",
   "execution_count": 287,
   "id": "7cb99936-435f-49d7-96f1-b0d68c025f7c",
   "metadata": {},
   "outputs": [],
   "source": [
    "def calculate_confidence_95(mm1):\n",
    "    return (stats.t.interval(confidence=0.95, df = len(mm1)-1, loc=np.mean(mm1), scale=stats.sem(mm1)))"
   ]
  },
  {
   "cell_type": "code",
   "execution_count": 288,
   "id": "064b31f0-a794-431a-8984-a6b96cf1ea47",
   "metadata": {},
   "outputs": [],
   "source": [
    "def MSER5Y(tx_service):\n",
    "    Z_values = np.zeros(k)\n",
    "\n",
    "    for i in range(0, k):\n",
    "        bff = 0\n",
    "        for j in range(0,m):\n",
    "            bff += tx_service[((m*i)+j)]\n",
    "\n",
    "        Z_values[i] = bff/m\n",
    "\n",
    "    return Z_values\n",
    "\n",
    "def mean_MSER5Y(Z_values, d):\n",
    "    bff = 0\n",
    "\n",
    "    for i in range(d+1,len(Z_values)):\n",
    "        bff += Z_values[i]\n",
    "    bff = bff/(k-d)\n",
    "\n",
    "    return bff\n",
    "\n",
    "def var_MSER5Y(Z_values, d, mean):\n",
    "    bff = 0\n",
    "\n",
    "    for i in range(d+1,len(Z_values)):\n",
    "        bff += (Z_values[i]-mean)**2\n",
    "    bff = bff/(k-d)\n",
    "\n",
    "    return bff\n",
    "\n",
    "def MSER5(Z_values, k, d):    \n",
    "    mean = mean_MSER5Y(Z_values, d)    \n",
    "    var = var_MSER5Y(Z_values, d, mean)\n",
    "    \n",
    "    #print(\"d: \", d, \"k: \", k,\"\\nMean Z: \", mean,\"\\nVar Z: \", var, \"\\n\")\n",
    "    \n",
    "    bff = var/((k-d)**(1/2))\n",
    "\n",
    "    return bff"
   ]
  },
  {
   "cell_type": "code",
   "execution_count": 289,
   "id": "9ee1f40b-870f-468e-909f-95d0527b2953",
   "metadata": {},
   "outputs": [],
   "source": [
    "def MSER5_cicle(tx_wait):\n",
    "    d = 0\n",
    "    Z_values = MSER5Y(tx_wait)\n",
    "\n",
    "    MSER5_series = []\n",
    "\n",
    "    while(d < (k/2)):\n",
    "\n",
    "        MSER5_series.append(MSER5(Z_values, k, d))\n",
    "\n",
    "        d += 1\n",
    "\n",
    "    index_min = MSER5_series.index(np.amin(MSER5_series))\n",
    "    return index_min*5"
   ]
  },
  {
   "cell_type": "code",
   "execution_count": 290,
   "id": "98407ff5-a8c3-47b4-b2b5-c5af52bca180",
   "metadata": {},
   "outputs": [],
   "source": [
    "def process_queue(clock, wait, tx_service, tx_entry, qtd_iteracitons, wait_list, is_run):\n",
    "    for i in range(0,len(tx_service)):\n",
    "        bff = clock - tx_entry[i]\n",
    "        wait += bff\n",
    "        \n",
    "        wait_list.append(wait)\n",
    "    \n",
    "        clock += tx_service[i]\n",
    "        qtd_iteracitons += 1\n",
    "        \n",
    "    transiente = MSER5_cicle(wait_list)\n",
    "    \n",
    "    tx_service = tx_service[transiente:]\n",
    "    tx_entry = tx_entry[transiente:]\n",
    "    \n",
    "    confidence = calculate_confidence_95(tx_service)\n",
    "    \n",
    "    Table_value=1074.679\n",
    "    \n",
    "    if(Table_value>=confidence[0] and Table_value<=confidence[1]): is_run = False\n",
    "    \n",
    "    return clock, wait, tx_service, tx_entry, qtd_iteracitons, wait_list, is_run"
   ]
  },
  {
   "cell_type": "code",
   "execution_count": 291,
   "id": "c80f9804-10e2-4e44-a206-17561d9eaeef",
   "metadata": {},
   "outputs": [],
   "source": [
    "def start_cicle(X, H, U):\n",
    "    #U(μ) --> taxa de entrada\n",
    "    #H(λ) --> taxa de serviço\n",
    "    \n",
    "    U = 1/U\n",
    "    H = 1/H\n",
    "    \n",
    "    clock = 0\n",
    "    wait = 0\n",
    "    qtd_iteracitons = 0\n",
    "    wait_list = []\n",
    "    is_run = True\n",
    "    \n",
    "    tx_service = []\n",
    "    tx_entry = []\n",
    "    \n",
    "    N = 0\n",
    "    \n",
    "    inicio = timeit.default_timer()\n",
    "    \n",
    "    while(is_run):\n",
    "        \n",
    "        N += X\n",
    "        m = 5\n",
    "        k = int(N/m)\n",
    "        \n",
    "        random_arr = G5(X)\n",
    "        tx_service = tx_service + random_list(random_arr,U)\n",
    "       \n",
    "        bff = random_list(random_arr,H)\n",
    "        if(qtd_iteracitons == 0):\n",
    "            bff[0] = 0\n",
    "            tx_entry.append(0)\n",
    "        else:\n",
    "            bff = [tx_entry[len(tx_entry)-1]] + bff\n",
    "        \n",
    "        bff = sum_intervals(bff)\n",
    "        tx_entry = tx_entry + bff[1:]\n",
    "        \n",
    "        clock, wait, tx_service, tx_entry, qtd_iteracitons, wait_list, is_run = process_queue(clock, wait, tx_service, tx_entry, qtd_iteracitons, wait_list, is_run)\n",
    "        \n",
    "    fim = timeit.default_timer()\n",
    "\n",
    "    return (wait_time/qtd_iteracitons),(fim-inicio)"
   ]
  },
  {
   "cell_type": "code",
   "execution_count": 292,
   "id": "57f14588-6555-4e0a-b411-ac89da73e391",
   "metadata": {},
   "outputs": [
    {
     "ename": "KeyboardInterrupt",
     "evalue": "",
     "output_type": "error",
     "traceback": [
      "\u001b[1;31m---------------------------------------------------------------------------\u001b[0m",
      "\u001b[1;31mKeyboardInterrupt\u001b[0m                         Traceback (most recent call last)",
      "Cell \u001b[1;32mIn[292], line 1\u001b[0m\n\u001b[1;32m----> 1\u001b[0m \u001b[43mstart_cicle\u001b[49m\u001b[43m(\u001b[49m\u001b[38;5;241;43m1000000\u001b[39;49m\u001b[43m,\u001b[49m\u001b[43m \u001b[49m\u001b[38;5;241;43m7\u001b[39;49m\u001b[43m,\u001b[49m\u001b[43m \u001b[49m\u001b[38;5;241;43m10\u001b[39;49m\u001b[43m)\u001b[49m\n",
      "Cell \u001b[1;32mIn[291], line 40\u001b[0m, in \u001b[0;36mstart_cicle\u001b[1;34m(X, H, U)\u001b[0m\n\u001b[0;32m     37\u001b[0m     bff \u001b[38;5;241m=\u001b[39m sum_intervals(bff)\n\u001b[0;32m     38\u001b[0m     tx_entry \u001b[38;5;241m=\u001b[39m tx_entry \u001b[38;5;241m+\u001b[39m bff[\u001b[38;5;241m1\u001b[39m:]\n\u001b[1;32m---> 40\u001b[0m     clock, wait, tx_service, tx_entry, qtd_iteracitons, wait_list, is_run \u001b[38;5;241m=\u001b[39m \u001b[43mprocess_queue\u001b[49m\u001b[43m(\u001b[49m\u001b[43mclock\u001b[49m\u001b[43m,\u001b[49m\u001b[43m \u001b[49m\u001b[43mwait\u001b[49m\u001b[43m,\u001b[49m\u001b[43m \u001b[49m\u001b[43mtx_service\u001b[49m\u001b[43m,\u001b[49m\u001b[43m \u001b[49m\u001b[43mtx_entry\u001b[49m\u001b[43m,\u001b[49m\u001b[43m \u001b[49m\u001b[43mqtd_iteracitons\u001b[49m\u001b[43m,\u001b[49m\u001b[43m \u001b[49m\u001b[43mwait_list\u001b[49m\u001b[43m,\u001b[49m\u001b[43m \u001b[49m\u001b[43mis_run\u001b[49m\u001b[43m)\u001b[49m\n\u001b[0;32m     42\u001b[0m fim \u001b[38;5;241m=\u001b[39m timeit\u001b[38;5;241m.\u001b[39mdefault_timer()\n\u001b[0;32m     44\u001b[0m \u001b[38;5;28;01mreturn\u001b[39;00m (wait_time\u001b[38;5;241m/\u001b[39mqtd_iteracitons),(fim\u001b[38;5;241m-\u001b[39minicio)\n",
      "Cell \u001b[1;32mIn[290], line 11\u001b[0m, in \u001b[0;36mprocess_queue\u001b[1;34m(clock, wait, tx_service, tx_entry, qtd_iteracitons, wait_list, is_run)\u001b[0m\n\u001b[0;32m      8\u001b[0m     clock \u001b[38;5;241m+\u001b[39m\u001b[38;5;241m=\u001b[39m tx_service[i]\n\u001b[0;32m      9\u001b[0m     qtd_iteracitons \u001b[38;5;241m+\u001b[39m\u001b[38;5;241m=\u001b[39m \u001b[38;5;241m1\u001b[39m\n\u001b[1;32m---> 11\u001b[0m transiente \u001b[38;5;241m=\u001b[39m \u001b[43mMSER5_cicle\u001b[49m\u001b[43m(\u001b[49m\u001b[43mwait_list\u001b[49m\u001b[43m)\u001b[49m\n\u001b[0;32m     13\u001b[0m tx_service \u001b[38;5;241m=\u001b[39m tx_service[transiente:]\n\u001b[0;32m     14\u001b[0m tx_entry \u001b[38;5;241m=\u001b[39m tx_entry[transiente:]\n",
      "Cell \u001b[1;32mIn[289], line 9\u001b[0m, in \u001b[0;36mMSER5_cicle\u001b[1;34m(tx_wait)\u001b[0m\n\u001b[0;32m      5\u001b[0m MSER5_series \u001b[38;5;241m=\u001b[39m []\n\u001b[0;32m      7\u001b[0m \u001b[38;5;28;01mwhile\u001b[39;00m(d \u001b[38;5;241m<\u001b[39m (k\u001b[38;5;241m/\u001b[39m\u001b[38;5;241m2\u001b[39m)):\n\u001b[1;32m----> 9\u001b[0m     MSER5_series\u001b[38;5;241m.\u001b[39mappend(\u001b[43mMSER5\u001b[49m\u001b[43m(\u001b[49m\u001b[43mZ_values\u001b[49m\u001b[43m,\u001b[49m\u001b[43m \u001b[49m\u001b[43mk\u001b[49m\u001b[43m,\u001b[49m\u001b[43m \u001b[49m\u001b[43md\u001b[49m\u001b[43m)\u001b[49m)\n\u001b[0;32m     11\u001b[0m     d \u001b[38;5;241m+\u001b[39m\u001b[38;5;241m=\u001b[39m \u001b[38;5;241m1\u001b[39m\n\u001b[0;32m     13\u001b[0m index_min \u001b[38;5;241m=\u001b[39m MSER5_series\u001b[38;5;241m.\u001b[39mindex(np\u001b[38;5;241m.\u001b[39mamin(MSER5_series))\n",
      "Cell \u001b[1;32mIn[288], line 33\u001b[0m, in \u001b[0;36mMSER5\u001b[1;34m(Z_values, k, d)\u001b[0m\n\u001b[0;32m     31\u001b[0m \u001b[38;5;28;01mdef\u001b[39;00m \u001b[38;5;21mMSER5\u001b[39m(Z_values, k, d):    \n\u001b[0;32m     32\u001b[0m     mean \u001b[38;5;241m=\u001b[39m mean_MSER5Y(Z_values, d)    \n\u001b[1;32m---> 33\u001b[0m     var \u001b[38;5;241m=\u001b[39m \u001b[43mvar_MSER5Y\u001b[49m\u001b[43m(\u001b[49m\u001b[43mZ_values\u001b[49m\u001b[43m,\u001b[49m\u001b[43m \u001b[49m\u001b[43md\u001b[49m\u001b[43m,\u001b[49m\u001b[43m \u001b[49m\u001b[43mmean\u001b[49m\u001b[43m)\u001b[49m\n\u001b[0;32m     35\u001b[0m     \u001b[38;5;66;03m#print(\"d: \", d, \"k: \", k,\"\\nMean Z: \", mean,\"\\nVar Z: \", var, \"\\n\")\u001b[39;00m\n\u001b[0;32m     37\u001b[0m     bff \u001b[38;5;241m=\u001b[39m var\u001b[38;5;241m/\u001b[39m((k\u001b[38;5;241m-\u001b[39md)\u001b[38;5;241m*\u001b[39m\u001b[38;5;241m*\u001b[39m(\u001b[38;5;241m1\u001b[39m\u001b[38;5;241m/\u001b[39m\u001b[38;5;241m2\u001b[39m))\n",
      "Cell \u001b[1;32mIn[288], line 26\u001b[0m, in \u001b[0;36mvar_MSER5Y\u001b[1;34m(Z_values, d, mean)\u001b[0m\n\u001b[0;32m     23\u001b[0m bff \u001b[38;5;241m=\u001b[39m \u001b[38;5;241m0\u001b[39m\n\u001b[0;32m     25\u001b[0m \u001b[38;5;28;01mfor\u001b[39;00m i \u001b[38;5;129;01min\u001b[39;00m \u001b[38;5;28mrange\u001b[39m(d\u001b[38;5;241m+\u001b[39m\u001b[38;5;241m1\u001b[39m,\u001b[38;5;28mlen\u001b[39m(Z_values)):\n\u001b[1;32m---> 26\u001b[0m     bff \u001b[38;5;241m+\u001b[39m\u001b[38;5;241m=\u001b[39m (Z_values[i]\u001b[38;5;241m-\u001b[39mmean)\u001b[38;5;241m*\u001b[39m\u001b[38;5;241m*\u001b[39m\u001b[38;5;241m2\u001b[39m\n\u001b[0;32m     27\u001b[0m bff \u001b[38;5;241m=\u001b[39m bff\u001b[38;5;241m/\u001b[39m(k\u001b[38;5;241m-\u001b[39md)\n\u001b[0;32m     29\u001b[0m \u001b[38;5;28;01mreturn\u001b[39;00m bff\n",
      "\u001b[1;31mKeyboardInterrupt\u001b[0m: "
     ]
    }
   ],
   "source": [
    "start_cicle(1000000, 7, 10)"
   ]
  },
  {
   "cell_type": "code",
   "execution_count": null,
   "id": "bc4d5480-8238-4934-b7a0-b07dbb5e3a87",
   "metadata": {},
   "outputs": [],
   "source": []
  }
 ],
 "metadata": {
  "kernelspec": {
   "display_name": "Python 3 (ipykernel)",
   "language": "python",
   "name": "python3"
  },
  "language_info": {
   "codemirror_mode": {
    "name": "ipython",
    "version": 3
   },
   "file_extension": ".py",
   "mimetype": "text/x-python",
   "name": "python",
   "nbconvert_exporter": "python",
   "pygments_lexer": "ipython3",
   "version": "3.11.1"
  }
 },
 "nbformat": 4,
 "nbformat_minor": 5
}
