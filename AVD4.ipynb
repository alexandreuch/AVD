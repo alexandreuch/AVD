{
 "cells": [
  {
   "cell_type": "code",
   "execution_count": 4,
   "id": "769c30af-f4f2-4681-aad9-a494bcfde9bf",
   "metadata": {},
   "outputs": [],
   "source": [
    "import numpy as np\n",
    "import random\n",
    "import timeit\n",
    "import math\n",
    "from scipy import stats"
   ]
  },
  {
   "cell_type": "markdown",
   "id": "4b408aee-6b5a-4fb2-8e7c-602acea8a35e",
   "metadata": {
    "tags": []
   },
   "source": [
    "### Criação da lista de variáveis aleatórias"
   ]
  },
  {
   "cell_type": "code",
   "execution_count": 2,
   "id": "bb281c38-24eb-4d5f-ba1b-2211a59bbeae",
   "metadata": {},
   "outputs": [],
   "source": [
    "# Gerará uma lista de variáveis aleatórias a partir da função RANDOM\n",
    "def G5(n):\n",
    "    random.seed(0)\n",
    "\n",
    "    vet_rn = []\n",
    "    for i in range(0,n,1):\n",
    "        vet_rn.append(random.random())\n",
    "    \n",
    "    return(vet_rn)"
   ]
  },
  {
   "cell_type": "code",
   "execution_count": 3,
   "id": "bcafbcc0-2729-4195-8c49-ff683b2e6a60",
   "metadata": {},
   "outputs": [],
   "source": [
    "# Transforma uma lista de variáveis aleatórias em uma distribuição aleatória uniforme entre [0,1]\n",
    "def random_list(vet,B):\n",
    "    Ts = np.zeros(len(vet))\n",
    "    for i in range(0,len(vet)):\n",
    "        Ts[i] = -B*np.log(1-vet[i])\n",
    "    return list(Ts)"
   ]
  },
  {
   "cell_type": "markdown",
   "id": "38b6a945-ba4e-4bd3-85c8-e1f868a0f9af",
   "metadata": {},
   "source": [
    "### Função para formação do intervalo de entrada"
   ]
  },
  {
   "cell_type": "code",
   "execution_count": 6,
   "id": "c4dea7ce-cc2a-434a-a9e0-8283470a601c",
   "metadata": {},
   "outputs": [],
   "source": [
    "# Soma-se o próximo com o anterior para ter uma noção de tempo de chagada. Sempre o tempo de chegada do\n",
    "#primeiro será 0.\n",
    "def sum_intervals(vet):\n",
    "    for i in range(1, len(vet)):\n",
    "        vet[i] += vet[i-1]\n",
    "    return vet"
   ]
  },
  {
   "cell_type": "markdown",
   "id": "4c1be09c-b766-4001-b81b-2204bff1b34c",
   "metadata": {},
   "source": [
    "### Função para calcular intervalo de confiança"
   ]
  },
  {
   "cell_type": "code",
   "execution_count": 9,
   "id": "ab7fb558-813f-4b77-a033-39fc5c0a0ec0",
   "metadata": {},
   "outputs": [],
   "source": [
    "# Dado uma lista de valores de processamento MM1, calcula-se com a função stats.t.interval o intervalo\n",
    "#de confiança para 95%\n",
    "def calculate_confidence_95(mm1):\n",
    "    return (stats.t.interval(confidence=0.95, df = len(mm1)-1, loc=np.mean(mm1), scale=stats.sem(mm1)))"
   ]
  },
  {
   "cell_type": "markdown",
   "id": "0c9e552a-f436-40aa-87e3-681c0fe0251c",
   "metadata": {},
   "source": [
    "### Fila MM1"
   ]
  },
  {
   "cell_type": "code",
   "execution_count": 36,
   "id": "382a14b6-0b48-4d88-bcf0-6bb3921028bc",
   "metadata": {},
   "outputs": [],
   "source": [
    "def process_queue(clock, wait, tx_service, tx_entry):\n",
    "    # Wait = Tempo de espera total\n",
    "    # tx_service = Lista com taxas de serviço\n",
    "    # tx_entry = Lista com taxas de entrada\n",
    "    # qtd_iteractions = Total de elementos processados\n",
    "    # wait_list = histórico de tempos de espera\n",
    "    # is_run = Flag que serve para quebrar o loop infinito de chamada dessa função\n",
    "    for i in range(0,len(tx_service)):\n",
    "        wait += clock - tx_entry[i] #Tempo de espera atual = Clcok - tx_entrada atual\n",
    "        clock += tx_service[i] #Adiciona-se ao clock a taxa de serviço atual\n",
    "        print(\"Wait:\",wait)\n",
    "        print(\"Clock: \",clock,\"\\n\")\n",
    "        \n",
    "    return wait"
   ]
  },
  {
   "cell_type": "code",
   "execution_count": 37,
   "id": "9d346ea0-601a-48dd-9bf3-cbf9985e5355",
   "metadata": {},
   "outputs": [
    {
     "name": "stdout",
     "output_type": "stream",
     "text": [
      "Wait: 0\n",
      "Clock:  5 \n",
      "\n",
      "Wait: 2\n",
      "Clock:  10 \n",
      "\n",
      "Wait: 5\n",
      "Clock:  15 \n",
      "\n",
      "Wait: 12\n",
      "Clock:  20 \n",
      "\n"
     ]
    },
    {
     "data": {
      "text/plain": [
       "12"
      ]
     },
     "execution_count": 37,
     "metadata": {},
     "output_type": "execute_result"
    }
   ],
   "source": [
    "# Teste da fila MM1\n",
    "clock = 0\n",
    "wait = 0\n",
    "tx_service = [5,5,5,5]\n",
    "tx_entry = [0,3,7,8]\n",
    "process_queue(clock, wait, tx_service, tx_entry)"
   ]
  },
  {
   "cell_type": "code",
   "execution_count": null,
   "id": "1b0de30d-26e5-4694-b3ad-ad30cf3fd150",
   "metadata": {},
   "outputs": [],
   "source": []
  },
  {
   "cell_type": "code",
   "execution_count": null,
   "id": "8bda1bed-b1f2-40c6-bc8c-556ee09582a8",
   "metadata": {},
   "outputs": [],
   "source": []
  }
 ],
 "metadata": {
  "kernelspec": {
   "display_name": "Python 3 (ipykernel)",
   "language": "python",
   "name": "python3"
  },
  "language_info": {
   "codemirror_mode": {
    "name": "ipython",
    "version": 3
   },
   "file_extension": ".py",
   "mimetype": "text/x-python",
   "name": "python",
   "nbconvert_exporter": "python",
   "pygments_lexer": "ipython3",
   "version": "3.11.1"
  }
 },
 "nbformat": 4,
 "nbformat_minor": 5
}
