{
 "cells": [
  {
   "cell_type": "code",
   "execution_count": 1,
   "id": "769c30af-f4f2-4681-aad9-a494bcfde9bf",
   "metadata": {},
   "outputs": [],
   "source": [
    "import numpy as np\n",
    "import random\n",
    "import timeit\n",
    "import math\n",
    "from scipy import stats\n",
    "DEBUG = 0"
   ]
  },
  {
   "cell_type": "markdown",
   "id": "80abaa37-3614-470d-8f68-b21b9481cfad",
   "metadata": {},
   "source": [
    "Parte 1\n",
    "\n",
    "Executar uma simulação de horizonte infinito para estimar o tempo médio de espera em uma fila M/M/1.\n",
    "\n",
    "Eliminar o transiente usando a heurística MSER -5Y.\n",
    "\n",
    "Usar o método Batch Means para estimar o tempo médio de espera na fila e o respectivo intervalo de confiança de 95%.\n",
    "\n",
    "A regra de parada é a precisão relativa de 5%.\n",
    "\n",
    "Cenário I: λ = 7 clientes por segundo; μ =10 clientes por segundo.\n",
    "\n",
    "Cenário II: λ = 8 clientes por segundo; μ =10 clientes por segundo.\n",
    "\n",
    "Cenário III: λ = 9 clientes por segundo; μ =10 clientes por segundo.\n",
    "\n",
    "Cenário IV: λ = 9,5 clientes por segundo; μ =10 clientes por segundo.\n",
    "\n",
    "Plotar um gráfico comparativo dos quatro cenários.\n",
    "\n",
    "Plotar uma linha horizontal para o valor teórico esperado em cada cenário.\n",
    "\n",
    "Parte 2\n",
    "\n",
    "Executar uma simulação de horizonte infinito para estimar o tempo médio de espera em uma fila M/M/1.\n",
    "\n",
    "Eliminar o transiente usando a heurística MSER -5Y.\n",
    "\n",
    "Usar o método Overpapping Batch Means para estimar o tempo médio de espera na fila e o respectivo intervalo de confiança de 95%.\n",
    "\n",
    "A regra de parada é a precisão relativa de 5%.\n",
    "\n",
    "Cenário I: λ = 7 clientes por segundo; μ =10 clientes por segundo.\n",
    "\n",
    "Cenário II: λ = 8 clientes por segundo; μ =10 clientes por segundo.\n",
    "\n",
    "Cenário III: λ = 9 clientes por segundo; μ =10 clientes por segundo.\n",
    "\n",
    "Cenário IV: λ = 9,5 clientes por segundo; μ =10 clientes por segundo.\n",
    "\n",
    "Plotar um gráfico comparativo dos quatro cenários.\n",
    "\n",
    "Plotar uma linha horizontal para o valor teórico esperado em cada cenário.\n",
    "\n",
    "\n",
    "Parte 3\n",
    "\n",
    "Executar uma simulação de horizonte infinito para estimar o tempo médio de espera em uma fila M/M/1.\n",
    "\n",
    "Eliminar o transiente usando a heurística MSER -5Y.\n",
    "\n",
    "Usar o método Overpapping Batch Means para estimar o tempo médio de espera na fila e o respectivo intervalo de confiança de 95%.\n",
    "\n",
    "A regra de parada é a precisão relativa de 5%.\n",
    "\n",
    "Cenário I: λ = 7 clientes por segundo; μ =10 clientes por segundo.\n",
    "\n",
    "Cenário II: λ = 8 clientes por segundo; μ =10 clientes por segundo.\n",
    "\n",
    "Cenário III: λ = 9 clientes por segundo; μ =10 clientes por segundo.\n",
    "\n",
    "Cenário IV: λ = 9,5 clientes por segundo; μ =10 clientes por segundo.\n",
    "\n",
    "Plotar um gráfico comparativo dos quatro cenários.\n",
    "\n",
    "Plotar uma linha horizontal para o valor teórico esperado em cada cenário.\n",
    "\n",
    "Repetir para diferentes graus de superposição (overlap): 10%, 25% e 50%."
   ]
  },
  {
   "cell_type": "markdown",
   "id": "4b408aee-6b5a-4fb2-8e7c-602acea8a35e",
   "metadata": {
    "tags": []
   },
   "source": [
    "### Criação da lista de variáveis aleatórias"
   ]
  },
  {
   "cell_type": "code",
   "execution_count": 2,
   "id": "bb281c38-24eb-4d5f-ba1b-2211a59bbeae",
   "metadata": {},
   "outputs": [],
   "source": [
    "# Gerará uma lista de variáveis aleatórias a partir da função RANDOM\n",
    "def G5(n):\n",
    "    random.seed(0)\n",
    "\n",
    "    vet_rn = []\n",
    "    for i in range(0,n,1):\n",
    "        vet_rn.append(random.random())\n",
    "    \n",
    "    return(vet_rn)"
   ]
  },
  {
   "cell_type": "code",
   "execution_count": 3,
   "id": "bcafbcc0-2729-4195-8c49-ff683b2e6a60",
   "metadata": {},
   "outputs": [],
   "source": [
    "# Transforma uma lista de variáveis aleatórias em uma distribuição aleatória uniforme entre [0,1]\n",
    "def random_list(vet,B):\n",
    "    Ts = np.zeros(len(vet))\n",
    "    for i in range(0,len(vet)):\n",
    "        Ts[i] = -B*np.log(1-vet[i])\n",
    "    return list(Ts)"
   ]
  },
  {
   "cell_type": "markdown",
   "id": "38b6a945-ba4e-4bd3-85c8-e1f868a0f9af",
   "metadata": {
    "tags": []
   },
   "source": [
    "### Função para formação do intervalo de entrada"
   ]
  },
  {
   "cell_type": "code",
   "execution_count": 4,
   "id": "c4dea7ce-cc2a-434a-a9e0-8283470a601c",
   "metadata": {},
   "outputs": [],
   "source": [
    "# Soma-se o próximo com o anterior para ter uma noção de tempo de chagada. Sempre o tempo de chegada do\n",
    "#primeiro será 0.\n",
    "def sum_intervals(vet):\n",
    "    for i in range(1, len(vet)):\n",
    "        vet[i] += vet[i-1]\n",
    "    return vet"
   ]
  },
  {
   "cell_type": "markdown",
   "id": "4c1be09c-b766-4001-b81b-2204bff1b34c",
   "metadata": {
    "tags": []
   },
   "source": [
    "### Função para calcular intervalo de confiança"
   ]
  },
  {
   "cell_type": "code",
   "execution_count": 5,
   "id": "ab7fb558-813f-4b77-a033-39fc5c0a0ec0",
   "metadata": {},
   "outputs": [],
   "source": [
    "# Dado uma lista de valores de processamento MM1, calcula-se com a função stats.t.interval o intervalo\n",
    "#de confiança para 95%\n",
    "def calculate_confidence_95(mm1):\n",
    "    return (stats.t.interval(confidence=0.95, df = len(mm1)-1, loc=np.mean(mm1), scale=stats.sem(mm1)))"
   ]
  },
  {
   "cell_type": "markdown",
   "id": "7e496aad-735e-461a-9b68-5ecbad477984",
   "metadata": {
    "tags": []
   },
   "source": [
    "### MSER-5Y"
   ]
  },
  {
   "cell_type": "code",
   "execution_count": 6,
   "id": "4a985b5e-1db2-4afb-b059-683f71f26bff",
   "metadata": {},
   "outputs": [],
   "source": [
    "def ZMean(ZVet, k, d):\n",
    "    mean = 0\n",
    "    for i in range(d, k):\n",
    "        mean += ZVet[i]\n",
    "        \n",
    "    mean = mean/(k-d)\n",
    "    return mean\n",
    "    \n",
    "def ZDP(ZVet, k, d, ZVetMean):\n",
    "    dp = 0\n",
    "    for i in range(d, k):\n",
    "        dp += (ZVet[i] - ZVetMean)**2\n",
    "\n",
    "    dp = dp/(k-d)\n",
    "    \n",
    "    return dp\n",
    "    \n",
    "def MSER5(k, d, ZVetVar):\n",
    "    return ZVetVar/(k-d)**(1/2)\n",
    "\n",
    "def MSER5Y(vet, d):\n",
    "    N = len(vet)\n",
    "    m = 5\n",
    "    k = N/m\n",
    "    if(DEBUG == 1): \n",
    "        print(\"N = \", len(vet))\n",
    "        print(\"m = 5\")\n",
    "        print(\"k = \", k, \"\\n\")\n",
    "    \n",
    "    k = int(k)\n",
    "    ZVet = np.zeros(k)\n",
    "    #if(DEBUG == 1): print(\"Blocos de cálculo do Z\")\n",
    "    for j in range(1,k+1):\n",
    "        for i in range(1,m+1):\n",
    "            index = (m*(j-1)+i)-1\n",
    "            #if(DEBUG == 1):print(\"index: \",m,\"* (\",j-1,\") +\",i, \"=\", index)\n",
    "            ZVet[j-1] += vet[index]\n",
    "        \n",
    "        #if(DEBUG == 1): print(\"\\n\")\n",
    "\n",
    "    ZVet = ZVet/m\n",
    "    #if(DEBUG == 1): print(\"Vetor Z: \", ZVet)\n",
    "    \n",
    "    ZVetMean = ZMean(ZVet, k, d)\n",
    "    if(DEBUG == 1): print(\"Z Média = \",ZVetMean)\n",
    "    \n",
    "    ZVetDP = ZDP(ZVet, k, d, ZVetMean)\n",
    "    ZVetVar = ZVetDP**(1/2)\n",
    "    if(DEBUG == 1): print(\"Z Desvio Padrão = \",ZVetDP)\n",
    "    if(DEBUG == 1): print(\"Z Variância = \",ZVetVar)\n",
    "    \n",
    "    mser5 = MSER5(k, d, ZVetVar)\n",
    "    if(DEBUG == 1): print(\"\\nMSER5 = \",mser5)\n",
    "    \n",
    "    return mser5\n",
    "\n",
    "def MSER5YLoop(vet):\n",
    "    MSER5YVet = []\n",
    "    meiok = (len(vet)/5)/2\n",
    "    meiok = int(math.ceil(meiok))\n",
    "    \n",
    "    for i in range(0, meiok):\n",
    "        MSER5YVet.append(MSER5Y(vet, i))\n",
    "    \n",
    "    minimo = min(MSER5YVet)\n",
    "    indexTransiente = minimo*5\n",
    "    indexTransiente = int(math.ceil(indexTransiente))\n",
    "    qtdMinimo = MSER5YVet.count(minimo)\n",
    "    \n",
    "    if(indexTransiente > len(vet)/2 or qtdMinimo > 1):\n",
    "        print(\"Pontos de Truncagem ainda não encontrados\")\n",
    "        return 0\n",
    "    else: \n",
    "        #print(\"Transiente:\", indexTransiente)\n",
    "        return indexTransiente"
   ]
  },
  {
   "cell_type": "markdown",
   "id": "0c9e552a-f436-40aa-87e3-681c0fe0251c",
   "metadata": {
    "tags": []
   },
   "source": [
    "### Fila MM1"
   ]
  },
  {
   "cell_type": "code",
   "execution_count": 7,
   "id": "382a14b6-0b48-4d88-bcf0-6bb3921028bc",
   "metadata": {},
   "outputs": [],
   "source": [
    "def process_queue(tx_service, tx_entry, is_run):\n",
    "    # Wait = Tempo de espera total\n",
    "    # tx_service = Lista com taxas de serviço\n",
    "    # tx_entry = Lista com taxas de entrada\n",
    "    # is_run = Flag que serve para quebrar o loop infinito de chamada dessa função\n",
    "    clock = 0\n",
    "    wait = 0\n",
    "    wait_list = []\n",
    "    bff = 0\n",
    "    for i in range(0,len(tx_service)):\n",
    "        wait = clock - tx_entry[i]\n",
    "        wait_list.append(wait)\n",
    "        clock += tx_service[i]\n",
    "    \n",
    "    confidence = calculate_confidence_95(wait_list)\n",
    "    \n",
    "    Table_value=1074.679\n",
    "    if(Table_value >= confidence[0] and Table_value <= confidence[1]): is_run = False\n",
    "    \n",
    "    indexTransiente = MSER5YLoop(wait_list)\n",
    "    \n",
    "    return is_run, indexTransiente "
   ]
  },
  {
   "cell_type": "markdown",
   "id": "35de85a1-f22b-4fc0-9369-c40b8a16facd",
   "metadata": {
    "tags": []
   },
   "source": [
    "### Execução"
   ]
  },
  {
   "cell_type": "code",
   "execution_count": 8,
   "id": "8bda1bed-b1f2-40c6-bc8c-556ee09582a8",
   "metadata": {},
   "outputs": [],
   "source": [
    "def start_cicle(ElementsToAdd, H, U):\n",
    "    #ElementsToAdd = Elementos adicionados por ciclo\n",
    "    #U(μ) = taxa de entrada\n",
    "    #H(λ) = taxa de serviço\n",
    "\n",
    "    U = 1/U\n",
    "    H = 1/H\n",
    "    \n",
    "    clock = 0\n",
    "    wait = 0\n",
    "    tx_service = []\n",
    "    tx_entry = []\n",
    "    wait_list = []\n",
    "    \n",
    "    is_run = True #Flag para quebrar a geração infinita\n",
    "    first_run = True\n",
    "    inicio = timeit.default_timer()\n",
    "    \n",
    "    while(is_run):\n",
    "        random_arr = G5(ElementsToAdd)\n",
    "        tx_service = tx_service + random_list(random_arr,U)\n",
    "        \n",
    "        bff = random_list(random_arr,H)\n",
    "        \n",
    "        if(first_run == False):\n",
    "            bff = [tx_entry[len(tx_entry)-1]] + bff\n",
    "            bff = sum_intervals(bff)\n",
    "            tx_entry = tx_entry + bff[1:]\n",
    "        else:\n",
    "            bff[0] = 0\n",
    "            bff = sum_intervals(bff)\n",
    "            tx_entry = bff\n",
    "        \n",
    "        first_run = False\n",
    "                \n",
    "        is_run, indexTransiente = process_queue(tx_service, tx_entry, is_run)\n",
    "        tx_service = tx_service[indexTransiente:]\n",
    "        tx_entry = tx_entry[indexTransiente:]\n",
    "        \n",
    "    fim = timeit.default_timer()\n",
    "\n",
    "    return wait,(fim-inicio)"
   ]
  },
  {
   "cell_type": "code",
   "execution_count": 9,
   "id": "4b2e7304-3f00-499d-a0cf-255a673b9f78",
   "metadata": {},
   "outputs": [
    {
     "ename": "KeyboardInterrupt",
     "evalue": "",
     "output_type": "error",
     "traceback": [
      "\u001b[0;31m---------------------------------------------------------------------------\u001b[0m",
      "\u001b[0;31mKeyboardInterrupt\u001b[0m                         Traceback (most recent call last)",
      "Cell \u001b[0;32mIn[9], line 1\u001b[0m\n\u001b[0;32m----> 1\u001b[0m \u001b[43mstart_cicle\u001b[49m\u001b[43m(\u001b[49m\u001b[38;5;241;43m1000\u001b[39;49m\u001b[43m,\u001b[49m\u001b[43m \u001b[49m\u001b[38;5;241;43m7\u001b[39;49m\u001b[43m,\u001b[49m\u001b[43m \u001b[49m\u001b[38;5;241;43m10\u001b[39;49m\u001b[43m)\u001b[49m\n",
      "Cell \u001b[0;32mIn[8], line 36\u001b[0m, in \u001b[0;36mstart_cicle\u001b[0;34m(ElementsToAdd, H, U)\u001b[0m\n\u001b[1;32m     32\u001b[0m     tx_entry \u001b[38;5;241m=\u001b[39m bff\n\u001b[1;32m     34\u001b[0m first_run \u001b[38;5;241m=\u001b[39m \u001b[38;5;28;01mFalse\u001b[39;00m\n\u001b[0;32m---> 36\u001b[0m is_run, indexTransiente \u001b[38;5;241m=\u001b[39m \u001b[43mprocess_queue\u001b[49m\u001b[43m(\u001b[49m\u001b[43mtx_service\u001b[49m\u001b[43m,\u001b[49m\u001b[43m \u001b[49m\u001b[43mtx_entry\u001b[49m\u001b[43m,\u001b[49m\u001b[43m \u001b[49m\u001b[43mis_run\u001b[49m\u001b[43m)\u001b[49m\n\u001b[1;32m     37\u001b[0m tx_service \u001b[38;5;241m=\u001b[39m tx_service[indexTransiente:]\n\u001b[1;32m     38\u001b[0m tx_entry \u001b[38;5;241m=\u001b[39m tx_entry[indexTransiente:]\n",
      "Cell \u001b[0;32mIn[7], line 20\u001b[0m, in \u001b[0;36mprocess_queue\u001b[0;34m(tx_service, tx_entry, is_run)\u001b[0m\n\u001b[1;32m     17\u001b[0m Table_value\u001b[38;5;241m=\u001b[39m\u001b[38;5;241m1074.679\u001b[39m\n\u001b[1;32m     18\u001b[0m \u001b[38;5;28;01mif\u001b[39;00m(Table_value \u001b[38;5;241m>\u001b[39m\u001b[38;5;241m=\u001b[39m confidence[\u001b[38;5;241m0\u001b[39m] \u001b[38;5;129;01mand\u001b[39;00m Table_value \u001b[38;5;241m<\u001b[39m\u001b[38;5;241m=\u001b[39m confidence[\u001b[38;5;241m1\u001b[39m]): is_run \u001b[38;5;241m=\u001b[39m \u001b[38;5;28;01mFalse\u001b[39;00m\n\u001b[0;32m---> 20\u001b[0m indexTransiente \u001b[38;5;241m=\u001b[39m \u001b[43mMSER5YLoop\u001b[49m\u001b[43m(\u001b[49m\u001b[43mwait_list\u001b[49m\u001b[43m)\u001b[49m\n\u001b[1;32m     22\u001b[0m \u001b[38;5;28;01mreturn\u001b[39;00m is_run, indexTransiente\n",
      "Cell \u001b[0;32mIn[6], line 63\u001b[0m, in \u001b[0;36mMSER5YLoop\u001b[0;34m(vet)\u001b[0m\n\u001b[1;32m     60\u001b[0m meiok \u001b[38;5;241m=\u001b[39m \u001b[38;5;28mint\u001b[39m(math\u001b[38;5;241m.\u001b[39mceil(meiok))\n\u001b[1;32m     62\u001b[0m \u001b[38;5;28;01mfor\u001b[39;00m i \u001b[38;5;129;01min\u001b[39;00m \u001b[38;5;28mrange\u001b[39m(\u001b[38;5;241m0\u001b[39m, meiok):\n\u001b[0;32m---> 63\u001b[0m     MSER5YVet\u001b[38;5;241m.\u001b[39mappend(\u001b[43mMSER5Y\u001b[49m\u001b[43m(\u001b[49m\u001b[43mvet\u001b[49m\u001b[43m,\u001b[49m\u001b[43m \u001b[49m\u001b[43mi\u001b[49m\u001b[43m)\u001b[49m)\n\u001b[1;32m     65\u001b[0m minimo \u001b[38;5;241m=\u001b[39m \u001b[38;5;28mmin\u001b[39m(MSER5YVet)\n\u001b[1;32m     66\u001b[0m indexTransiente \u001b[38;5;241m=\u001b[39m minimo\u001b[38;5;241m*\u001b[39m\u001b[38;5;241m5\u001b[39m\n",
      "Cell \u001b[0;32mIn[6], line 37\u001b[0m, in \u001b[0;36mMSER5Y\u001b[0;34m(vet, d)\u001b[0m\n\u001b[1;32m     35\u001b[0m         index \u001b[38;5;241m=\u001b[39m (m\u001b[38;5;241m*\u001b[39m(j\u001b[38;5;241m-\u001b[39m\u001b[38;5;241m1\u001b[39m)\u001b[38;5;241m+\u001b[39mi)\u001b[38;5;241m-\u001b[39m\u001b[38;5;241m1\u001b[39m\n\u001b[1;32m     36\u001b[0m         \u001b[38;5;66;03m#if(DEBUG == 1):print(\"index: \",m,\"* (\",j-1,\") +\",i, \"=\", index)\u001b[39;00m\n\u001b[0;32m---> 37\u001b[0m         ZVet[j\u001b[38;5;241m-\u001b[39m\u001b[38;5;241m1\u001b[39m] \u001b[38;5;241m+\u001b[39m\u001b[38;5;241m=\u001b[39m vet[index]\n\u001b[1;32m     39\u001b[0m     \u001b[38;5;66;03m#if(DEBUG == 1): print(\"\\n\")\u001b[39;00m\n\u001b[1;32m     41\u001b[0m ZVet \u001b[38;5;241m=\u001b[39m ZVet\u001b[38;5;241m/\u001b[39mm\n",
      "\u001b[0;31mKeyboardInterrupt\u001b[0m: "
     ]
    }
   ],
   "source": [
    "start_cicle(1000, 7, 10)"
   ]
  },
  {
   "cell_type": "code",
   "execution_count": null,
   "id": "8186ef70-9d9b-4777-9368-125e945d2021",
   "metadata": {},
   "outputs": [],
   "source": []
  }
 ],
 "metadata": {
  "kernelspec": {
   "display_name": "Python 3 (ipykernel)",
   "language": "python",
   "name": "python3"
  },
  "language_info": {
   "codemirror_mode": {
    "name": "ipython",
    "version": 3
   },
   "file_extension": ".py",
   "mimetype": "text/x-python",
   "name": "python",
   "nbconvert_exporter": "python",
   "pygments_lexer": "ipython3",
   "version": "3.10.6"
  }
 },
 "nbformat": 4,
 "nbformat_minor": 5
}
